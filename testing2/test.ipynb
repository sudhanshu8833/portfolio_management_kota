{
 "cells": [
  {
   "cell_type": "code",
   "execution_count": null,
   "metadata": {},
   "outputs": [],
   "source": [
    "from finta import TA"
   ]
  },
  {
   "cell_type": "code",
   "execution_count": null,
   "metadata": {},
   "outputs": [],
   "source": [
    "\n",
    "from finta import TA\n",
    "from smartapi import SmartConnect \n",
    "import numpy as np\n",
    "import pandas as pd\n",
    "\n",
    "obj=SmartConnect(api_key=\"uWbpZyYm\")\n",
    "data = obj.generateSession(\"S776051\",\"Madhya246###\")\n",
    "refreshToken= data['data']['refreshToken']\n",
    "feedToken=obj.getfeedToken()\n",
    "userProfile= obj.getProfile(refreshToken)\n",
    "print(userProfile)\n",
    "\n",
    "TSL_factor=1\n",
    "wick_body_min_per=30\n",
    "ATR_period=14\n",
    "amount_invest=10000\n",
    "stock='TCS'\n",
    "time_frame='FIFTEEN_MINUTE'\n",
    "\n",
    "\n",
    "\n",
    "\n",
    "def candles(instrument,interval):\n",
    "        \n",
    "    ohlc_intraday=pd.DataFrame()\n",
    "\n",
    "    historicParam={\n",
    "    \"exchange\": \"NSE\",\n",
    "    \"symboltoken\": \"3045\",\n",
    "    \"interval\": interval,\n",
    "    \"fromdate\": \"2021-07-05 09:15\", \n",
    "    \"todate\": \"2021-12-14 15:25\"\n",
    "    }\n",
    "\n",
    "    data=obj.getCandleData(historicParam)\n",
    "\n",
    "    data=pd.DataFrame(data)[\"data\"]\n",
    "    open=[]\n",
    "    close=[]\n",
    "    high=[]\n",
    "    low=[]\n",
    "    volume=[]\n",
    "    index=[]\n",
    "    for i in range(len(data)):\n",
    "        open.append(data[i][1])\n",
    "\n",
    "    for i in range(len(data)):\n",
    "        close.append(data[i][4])\n",
    "\n",
    "    for i in range(len(data)):\n",
    "        high.append(data[i][2])\n",
    "\n",
    "    for i in range(len(data)):\n",
    "        low.append(data[i][3])\n",
    "\n",
    "    for i in range(len(data)):\n",
    "        index.append(data[i][0])\n",
    "\n",
    "    for i in range(len(data)):\n",
    "        volume.append(data[i][5])\n",
    "\n",
    "\n",
    "    ohlc_intraday[\"Datetime\"]=np.array(index)\n",
    "    ohlc_intraday[\"Open\"]=np.array(open)\n",
    "    ohlc_intraday[\"High\"]=np.array(high)\n",
    "    ohlc_intraday[\"Low\"]=np.array(low)\n",
    "    ohlc_intraday[\"Close\"]=np.array(close)\n",
    "    ohlc_intraday[\"volume\"]=np.array(volume)\n",
    "    ohlc_intraday.set_index(\"Datetime\",inplace=True)\n",
    "\n",
    "    return ohlc_intraday\n"
   ]
  },
  {
   "cell_type": "code",
   "execution_count": null,
   "metadata": {},
   "outputs": [],
   "source": [
    "candles('TCS',time_frame)"
   ]
  },
  {
   "cell_type": "code",
   "execution_count": null,
   "metadata": {},
   "outputs": [],
   "source": [
    "from jugaad_trader import Zerodha"
   ]
  },
  {
   "cell_type": "code",
   "execution_count": null,
   "metadata": {},
   "outputs": [],
   "source": [
    "from jugaad_trader import Zerodha\n",
    "kite = Zerodha()\n",
    "kite.set_access_token()\n",
    "print(kite.profile())"
   ]
  },
  {
   "cell_type": "code",
   "execution_count": null,
   "metadata": {},
   "outputs": [],
   "source": [
    "import click\n",
    "import pickle as pk\n",
    "import csv\n",
    "from jugaad_trader import Zerodha\n",
    "\n",
    "\n",
    "@click.command()\n",
    "@click.option(\"--instrument\", \"-i\", help='Instrument name \"NSE:INFY\"', type=str)\n",
    "@click.option(\"--from\", \"-f\", \"from_\", help=\"from date 2022-04-24\")\n",
    "@click.option(\"--to\", \"-t\", help=\"to date 2022-05-24\")\n",
    "@click.option(\"--interval\", \"-n\", default=\"day\", help=\"Data interval eg. minute, day\")\n",
    "@click.option(\"--output\", \"-o\", help=\"Output file name\")\n",
    "def main(instrument, from_, to, interval, output):\n",
    "    #print(instrument, from_, to, interval, output)\n",
    "    kite = Zerodha()\n",
    "\n",
    "    kite.set_access_token()\n",
    "    q = kite.ltp(instrument)\n",
    "    token = q[instrument]['instrument_token']\n",
    "\n",
    "    data = kite.historical_data(token, from_, to, interval)\n",
    "    with open(output, 'w') as fp:\n",
    "        writer = csv.DictWriter(fp, [\"date\", \"open\", \"high\", \"low\", \"close\", \"volume\"])\n",
    "        writer.writeheader()\n",
    "        writer.writerows(data)\n",
    "\n",
    "\n",
    "if __name__ == \"__main__\":\n",
    "    main()"
   ]
  },
  {
   "cell_type": "code",
   "execution_count": 29,
   "metadata": {},
   "outputs": [
    {
     "ename": "KeyError",
     "evalue": "\"None of [Index(['FH_TIMESTAMP', 'FH_EXPIRY_DT', 'FH_OPTION_TYPE', 'FH_STRIKE_PRICE',\\n       'FH_OPENING_PRICE', 'FH_TRADE_HIGH_PRICE', 'FH_TRADE_LOW_PRICE',\\n       'FH_CLOSING_PRICE', 'FH_LAST_TRADED_PRICE', 'FH_SETTLE_PRICE',\\n       'FH_TOT_TRADED_QTY', 'FH_MARKET_LOT', 'FH_TOT_TRADED_VAL',\\n       'FH_OPEN_INT', 'FH_CHANGE_IN_OI', 'FH_SYMBOL'],\\n      dtype='object')] are in the [columns]\"",
     "output_type": "error",
     "traceback": [
      "\u001b[0;31m---------------------------------------------------------------------------\u001b[0m",
      "\u001b[0;31mKeyError\u001b[0m                                  Traceback (most recent call last)",
      "\u001b[0;32m<ipython-input-29-f141d3fd6ba1>\u001b[0m in \u001b[0;36m<module>\u001b[0;34m\u001b[0m\n\u001b[1;32m      1\u001b[0m \u001b[0;32mfrom\u001b[0m \u001b[0mjugaad_data\u001b[0m\u001b[0;34m.\u001b[0m\u001b[0mnse\u001b[0m \u001b[0;32mimport\u001b[0m \u001b[0mderivatives_csv\u001b[0m\u001b[0;34m,\u001b[0m \u001b[0mderivatives_df\u001b[0m\u001b[0;34m\u001b[0m\u001b[0;34m\u001b[0m\u001b[0m\n\u001b[0;32m----> 2\u001b[0;31m df = derivatives_df(symbol=\"NIFTY\", from_date=date(2020,1,1), to_date=date(2020,1,30),\n\u001b[0m\u001b[1;32m      3\u001b[0m             expiry_date=date(2022,1,30), instrument_type=\"OPTIDX\",strike_price=16000,option_type='PE')\n\u001b[1;32m      4\u001b[0m \u001b[0mprint\u001b[0m\u001b[0;34m(\u001b[0m\u001b[0mdf\u001b[0m\u001b[0;34m.\u001b[0m\u001b[0mhead\u001b[0m\u001b[0;34m(\u001b[0m\u001b[0;34m)\u001b[0m\u001b[0;34m)\u001b[0m\u001b[0;34m\u001b[0m\u001b[0;34m\u001b[0m\u001b[0m\n",
      "\u001b[0;32m/Library/Frameworks/Python.framework/Versions/3.9/lib/python3.9/site-packages/jugaad_data/nse/history.py\u001b[0m in \u001b[0;36mderivatives_df\u001b[0;34m(symbol, from_date, to_date, expiry_date, instrument_type, strike_price, option_type)\u001b[0m\n\u001b[1;32m    267\u001b[0m         \u001b[0mselect_headers\u001b[0m \u001b[0;34m=\u001b[0m \u001b[0moptions_select_headers\u001b[0m\u001b[0;34m\u001b[0m\u001b[0;34m\u001b[0m\u001b[0m\n\u001b[1;32m    268\u001b[0m         \u001b[0mdtypes\u001b[0m \u001b[0;34m=\u001b[0m \u001b[0moptions_dtype\u001b[0m\u001b[0;34m\u001b[0m\u001b[0;34m\u001b[0m\u001b[0m\n\u001b[0;32m--> 269\u001b[0;31m     \u001b[0mdf\u001b[0m \u001b[0;34m=\u001b[0m \u001b[0mpd\u001b[0m\u001b[0;34m.\u001b[0m\u001b[0mDataFrame\u001b[0m\u001b[0;34m(\u001b[0m\u001b[0mraw\u001b[0m\u001b[0;34m)\u001b[0m\u001b[0;34m[\u001b[0m\u001b[0mselect_headers\u001b[0m\u001b[0;34m]\u001b[0m\u001b[0;34m\u001b[0m\u001b[0;34m\u001b[0m\u001b[0m\n\u001b[0m\u001b[1;32m    270\u001b[0m     \u001b[0mdf\u001b[0m\u001b[0;34m.\u001b[0m\u001b[0mcolumns\u001b[0m \u001b[0;34m=\u001b[0m \u001b[0mfinal_headers\u001b[0m\u001b[0;34m\u001b[0m\u001b[0;34m\u001b[0m\u001b[0m\n\u001b[1;32m    271\u001b[0m     \u001b[0;32mfor\u001b[0m \u001b[0mi\u001b[0m\u001b[0;34m,\u001b[0m \u001b[0mh\u001b[0m \u001b[0;32min\u001b[0m \u001b[0menumerate\u001b[0m\u001b[0;34m(\u001b[0m\u001b[0mfinal_headers\u001b[0m\u001b[0;34m)\u001b[0m\u001b[0;34m:\u001b[0m\u001b[0;34m\u001b[0m\u001b[0;34m\u001b[0m\u001b[0m\n",
      "\u001b[0;32m/Library/Frameworks/Python.framework/Versions/3.9/lib/python3.9/site-packages/pandas/core/frame.py\u001b[0m in \u001b[0;36m__getitem__\u001b[0;34m(self, key)\u001b[0m\n\u001b[1;32m   3509\u001b[0m             \u001b[0;32mif\u001b[0m \u001b[0mis_iterator\u001b[0m\u001b[0;34m(\u001b[0m\u001b[0mkey\u001b[0m\u001b[0;34m)\u001b[0m\u001b[0;34m:\u001b[0m\u001b[0;34m\u001b[0m\u001b[0;34m\u001b[0m\u001b[0m\n\u001b[1;32m   3510\u001b[0m                 \u001b[0mkey\u001b[0m \u001b[0;34m=\u001b[0m \u001b[0mlist\u001b[0m\u001b[0;34m(\u001b[0m\u001b[0mkey\u001b[0m\u001b[0;34m)\u001b[0m\u001b[0;34m\u001b[0m\u001b[0;34m\u001b[0m\u001b[0m\n\u001b[0;32m-> 3511\u001b[0;31m             \u001b[0mindexer\u001b[0m \u001b[0;34m=\u001b[0m \u001b[0mself\u001b[0m\u001b[0;34m.\u001b[0m\u001b[0mcolumns\u001b[0m\u001b[0;34m.\u001b[0m\u001b[0m_get_indexer_strict\u001b[0m\u001b[0;34m(\u001b[0m\u001b[0mkey\u001b[0m\u001b[0;34m,\u001b[0m \u001b[0;34m\"columns\"\u001b[0m\u001b[0;34m)\u001b[0m\u001b[0;34m[\u001b[0m\u001b[0;36m1\u001b[0m\u001b[0;34m]\u001b[0m\u001b[0;34m\u001b[0m\u001b[0;34m\u001b[0m\u001b[0m\n\u001b[0m\u001b[1;32m   3512\u001b[0m \u001b[0;34m\u001b[0m\u001b[0m\n\u001b[1;32m   3513\u001b[0m         \u001b[0;31m# take() does not accept boolean indexers\u001b[0m\u001b[0;34m\u001b[0m\u001b[0;34m\u001b[0m\u001b[0;34m\u001b[0m\u001b[0m\n",
      "\u001b[0;32m/Library/Frameworks/Python.framework/Versions/3.9/lib/python3.9/site-packages/pandas/core/indexes/base.py\u001b[0m in \u001b[0;36m_get_indexer_strict\u001b[0;34m(self, key, axis_name)\u001b[0m\n\u001b[1;32m   5780\u001b[0m             \u001b[0mkeyarr\u001b[0m\u001b[0;34m,\u001b[0m \u001b[0mindexer\u001b[0m\u001b[0;34m,\u001b[0m \u001b[0mnew_indexer\u001b[0m \u001b[0;34m=\u001b[0m \u001b[0mself\u001b[0m\u001b[0;34m.\u001b[0m\u001b[0m_reindex_non_unique\u001b[0m\u001b[0;34m(\u001b[0m\u001b[0mkeyarr\u001b[0m\u001b[0;34m)\u001b[0m\u001b[0;34m\u001b[0m\u001b[0;34m\u001b[0m\u001b[0m\n\u001b[1;32m   5781\u001b[0m \u001b[0;34m\u001b[0m\u001b[0m\n\u001b[0;32m-> 5782\u001b[0;31m         \u001b[0mself\u001b[0m\u001b[0;34m.\u001b[0m\u001b[0m_raise_if_missing\u001b[0m\u001b[0;34m(\u001b[0m\u001b[0mkeyarr\u001b[0m\u001b[0;34m,\u001b[0m \u001b[0mindexer\u001b[0m\u001b[0;34m,\u001b[0m \u001b[0maxis_name\u001b[0m\u001b[0;34m)\u001b[0m\u001b[0;34m\u001b[0m\u001b[0;34m\u001b[0m\u001b[0m\n\u001b[0m\u001b[1;32m   5783\u001b[0m \u001b[0;34m\u001b[0m\u001b[0m\n\u001b[1;32m   5784\u001b[0m         \u001b[0mkeyarr\u001b[0m \u001b[0;34m=\u001b[0m \u001b[0mself\u001b[0m\u001b[0;34m.\u001b[0m\u001b[0mtake\u001b[0m\u001b[0;34m(\u001b[0m\u001b[0mindexer\u001b[0m\u001b[0;34m)\u001b[0m\u001b[0;34m\u001b[0m\u001b[0;34m\u001b[0m\u001b[0m\n",
      "\u001b[0;32m/Library/Frameworks/Python.framework/Versions/3.9/lib/python3.9/site-packages/pandas/core/indexes/base.py\u001b[0m in \u001b[0;36m_raise_if_missing\u001b[0;34m(self, key, indexer, axis_name)\u001b[0m\n\u001b[1;32m   5840\u001b[0m                 \u001b[0;32mif\u001b[0m \u001b[0muse_interval_msg\u001b[0m\u001b[0;34m:\u001b[0m\u001b[0;34m\u001b[0m\u001b[0;34m\u001b[0m\u001b[0m\n\u001b[1;32m   5841\u001b[0m                     \u001b[0mkey\u001b[0m \u001b[0;34m=\u001b[0m \u001b[0mlist\u001b[0m\u001b[0;34m(\u001b[0m\u001b[0mkey\u001b[0m\u001b[0;34m)\u001b[0m\u001b[0;34m\u001b[0m\u001b[0;34m\u001b[0m\u001b[0m\n\u001b[0;32m-> 5842\u001b[0;31m                 \u001b[0;32mraise\u001b[0m \u001b[0mKeyError\u001b[0m\u001b[0;34m(\u001b[0m\u001b[0;34mf\"None of [{key}] are in the [{axis_name}]\"\u001b[0m\u001b[0;34m)\u001b[0m\u001b[0;34m\u001b[0m\u001b[0;34m\u001b[0m\u001b[0m\n\u001b[0m\u001b[1;32m   5843\u001b[0m \u001b[0;34m\u001b[0m\u001b[0m\n\u001b[1;32m   5844\u001b[0m             \u001b[0mnot_found\u001b[0m \u001b[0;34m=\u001b[0m \u001b[0mlist\u001b[0m\u001b[0;34m(\u001b[0m\u001b[0mensure_index\u001b[0m\u001b[0;34m(\u001b[0m\u001b[0mkey\u001b[0m\u001b[0;34m)\u001b[0m\u001b[0;34m[\u001b[0m\u001b[0mmissing_mask\u001b[0m\u001b[0;34m.\u001b[0m\u001b[0mnonzero\u001b[0m\u001b[0;34m(\u001b[0m\u001b[0;34m)\u001b[0m\u001b[0;34m[\u001b[0m\u001b[0;36m0\u001b[0m\u001b[0;34m]\u001b[0m\u001b[0;34m]\u001b[0m\u001b[0;34m.\u001b[0m\u001b[0munique\u001b[0m\u001b[0;34m(\u001b[0m\u001b[0;34m)\u001b[0m\u001b[0;34m)\u001b[0m\u001b[0;34m\u001b[0m\u001b[0;34m\u001b[0m\u001b[0m\n",
      "\u001b[0;31mKeyError\u001b[0m: \"None of [Index(['FH_TIMESTAMP', 'FH_EXPIRY_DT', 'FH_OPTION_TYPE', 'FH_STRIKE_PRICE',\\n       'FH_OPENING_PRICE', 'FH_TRADE_HIGH_PRICE', 'FH_TRADE_LOW_PRICE',\\n       'FH_CLOSING_PRICE', 'FH_LAST_TRADED_PRICE', 'FH_SETTLE_PRICE',\\n       'FH_TOT_TRADED_QTY', 'FH_MARKET_LOT', 'FH_TOT_TRADED_VAL',\\n       'FH_OPEN_INT', 'FH_CHANGE_IN_OI', 'FH_SYMBOL'],\\n      dtype='object')] are in the [columns]\""
     ]
    }
   ],
   "source": [
    "from jugaad_data.nse import derivatives_csv, derivatives_df\n",
    "df = derivatives_df(symbol=\"NIFTY\", from_date=date(2020,1,1), to_date=date(2020,1,30),\n",
    "            expiry_date=date(2022,1,30), instrument_type=\"OPTIDX\",strike_price=16000,option_type='PE')\n",
    "print(df.head())"
   ]
  },
  {
   "cell_type": "code",
   "execution_count": null,
   "metadata": {},
   "outputs": [],
   "source": [
    "from datetime import date\n",
    "from jugaad_data.nse import bhavcopy_save, bhavcopy_fo_save\n",
    "\n",
    "# # Download bhavcopy\n",
    "# bhavcopy_save(date(2020,1,1), \"/path/to/directory\")\n",
    "\n",
    "# # Download bhavcopy for futures and options\n",
    "# bhavcopy_fo_save(date(2020,1,1), \"/path/to/directory\")\n",
    "\n",
    "# Download stock data to pandas dataframe\n",
    "from jugaad_data.nse import stock_df\n",
    "df = stock_df(symbol=\"NIFTY28JUL2217000PE\", from_date=date(2020,1,1),\n",
    "            to_date=date(2020,1,30), series=\"EQ\")"
   ]
  },
  {
   "cell_type": "code",
   "execution_count": null,
   "metadata": {},
   "outputs": [],
   "source": []
  },
  {
   "cell_type": "code",
   "execution_count": null,
   "metadata": {},
   "outputs": [],
   "source": []
  }
 ],
 "metadata": {
  "kernelspec": {
   "display_name": "Python 3.9.5 64-bit",
   "name": "python395jvsc74a57bd07812ea015bdcee6f23a998adcdd2ef97c151c0c241b7b7070987d9313e41299d"
  },
  "language_info": {
   "codemirror_mode": {
    "name": "ipython",
    "version": 3
   },
   "file_extension": ".py",
   "mimetype": "text/x-python",
   "name": "python",
   "nbconvert_exporter": "python",
   "pygments_lexer": "ipython3",
   "version": "3.9.5"
  },
  "metadata": {
   "interpreter": {
    "hash": "7812ea015bdcee6f23a998adcdd2ef97c151c0c241b7b7070987d9313e41299d"
   }
  },
  "orig_nbformat": 2
 },
 "nbformat": 4,
 "nbformat_minor": 2
}