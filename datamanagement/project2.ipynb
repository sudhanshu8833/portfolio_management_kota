{
 "cells": [
  {
   "cell_type": "code",
   "execution_count": null,
   "metadata": {},
   "outputs": [],
   "source": [
    "import yfinance as yf\n",
    "from finta import TA\n",
    "import time\n",
    "import pandas as pd\n",
    "import json"
   ]
  },
  {
   "cell_type": "code",
   "execution_count": null,
   "metadata": {},
   "outputs": [],
   "source": [
    "from smartapi import SmartConnect \n",
    "obj=SmartConnect(api_key=\"uWbpZyYm\")\n",
    "data = obj.generateSession(\"S776051\",\"Madhya246###\")\n",
    "refreshToken= data['data']['refreshToken']\n",
    "feedToken=obj.getfeedToken()\n",
    "userProfile= obj.getProfile(refreshToken)\n",
    "print(userProfile)"
   ]
  },
  {
   "cell_type": "code",
   "execution_count": null,
   "metadata": {},
   "outputs": [],
   "source": [
    "obj.ltpData(\"NFO\", 'NIFTY21JUL2216500PE', \"79925\")['data']['ltp']"
   ]
  },
  {
   "cell_type": "code",
   "execution_count": null,
   "metadata": {},
   "outputs": [],
   "source": [
    "price_buy=obj.ltpData(\"NSE\",'NIFTY',\"26000\")['data']['ltp']"
   ]
  },
  {
   "cell_type": "code",
   "execution_count": null,
   "metadata": {},
   "outputs": [],
   "source": [
    "import yfinance as yf\n",
    "df=yf.download(\"^INDIAVIX\",period='1D',interval=\"1D\")['Close'][-1]"
   ]
  },
  {
   "cell_type": "code",
   "execution_count": null,
   "metadata": {},
   "outputs": [],
   "source": [
    "import math\n",
    "\n",
    "def vix_calculation():\n",
    "    working_days=3\n",
    "    vix_price=21\n",
    "    price=15850\n",
    "    days_vix=vix_price/ ( math.sqrt(252/working_days) )\n",
    "    nifty_range=price*days_vix*(1-vix_price/100)/100\n",
    "    v_factor=round(nifty_range/50,0)*50\n",
    "\n",
    "    return v_factor"
   ]
  },
  {
   "cell_type": "code",
   "execution_count": null,
   "metadata": {},
   "outputs": [],
   "source": [
    "vix_calculation()"
   ]
  },
  {
   "cell_type": "code",
   "execution_count": null,
   "metadata": {},
   "outputs": [],
   "source": [
    "df=pd.read_csv(\"scripts.csv\")"
   ]
  },
  {
   "cell_type": "code",
   "execution_count": null,
   "metadata": {},
   "outputs": [],
   "source": [
    "dicts={}"
   ]
  },
  {
   "cell_type": "code",
   "execution_count": null,
   "metadata": {},
   "outputs": [],
   "source": [
    "dicts_2={}"
   ]
  },
  {
   "cell_type": "code",
   "execution_count": null,
   "metadata": {},
   "outputs": [],
   "source": [
    "for i in range(len(list(df['symbol']))):\n",
    "    if '-EQ' in df['symbol'][i] and df['exch_seg'][i]==\"NSE\":\n",
    "        dicts[str(df['symbol'][i])]=df['token'][i]\n",
    "        dicts_2[str(df['token'][i])]=df['symbol'][i]"
   ]
  },
  {
   "cell_type": "code",
   "execution_count": null,
   "metadata": {},
   "outputs": [],
   "source": [
    "symbol_token=[]"
   ]
  },
  {
   "cell_type": "code",
   "execution_count": null,
   "metadata": {},
   "outputs": [],
   "source": [
    "for key in dicts:\n",
    "    symbol_token.append(dicts[key])\n",
    "    "
   ]
  },
  {
   "cell_type": "code",
   "execution_count": null,
   "metadata": {},
   "outputs": [],
   "source": [
    "len(symbol_token)"
   ]
  },
  {
   "cell_type": "code",
   "execution_count": null,
   "metadata": {},
   "outputs": [],
   "source": [
    "token=\"\"\n",
    "for i in range(10):\n",
    "    token=token+\"nse_cm|\"+str(symbol_token[i])\n",
    "\n",
    "    if i==9:\n",
    "        token=token\n",
    "    else:\n",
    "        token=token+'&'\n"
   ]
  },
  {
   "cell_type": "code",
   "execution_count": null,
   "metadata": {},
   "outputs": [],
   "source": [
    "dicts={\n",
    "    \"BIFTYNSE\":\"23847\",\n",
    "    \"KDSJFKL\":\"903289\"\n",
    "}"
   ]
  },
  {
   "cell_type": "code",
   "execution_count": null,
   "metadata": {},
   "outputs": [],
   "source": [
    "import json\n",
    "import pandas as pd\n",
    "with open(\"values.json\") as json_data_file:\n",
    "    data3 = json.load(json_data_file)\n",
    "    \n",
    "data3=data3['WELCORP-EQ']\n",
    "print(data3)\n",
    "\n"
   ]
  },
  {
   "cell_type": "code",
   "execution_count": 67,
   "metadata": {},
   "outputs": [
    {
     "data": {
      "text/plain": "3"
     },
     "execution_count": 67,
     "metadata": {},
     "output_type": "execute_result"
    }
   ],
   "source": [
    "import datetime\n",
    "datetime.datetime.now().minute"
   ]
  },
  {
   "cell_type": "code",
   "execution_count": null,
   "metadata": {},
   "outputs": [],
   "source": [
    "from dateutil import parser\n",
    "import time"
   ]
  },
  {
   "cell_type": "code",
   "execution_count": null,
   "metadata": {},
   "outputs": [],
   "source": [
    "parser.parse(time.time())"
   ]
  },
  {
   "cell_type": "code",
   "execution_count": null,
   "metadata": {},
   "outputs": [],
   "source": [
    "data.index.rename('Time',inplace=True)"
   ]
  },
  {
   "cell_type": "code",
   "execution_count": null,
   "metadata": {},
   "outputs": [],
   "source": [
    "data.index=pd.to_datetime(data.index,format='%Y-%m-%d %H:%M:%S:%f')"
   ]
  },
  {
   "cell_type": "code",
   "execution_count": null,
   "metadata": {},
   "outputs": [],
   "source": [
    "resample_LTP=pd.DataFrame()\n",
    "data=data.dropna()\n",
    "resample_LTP['low'] = data['Close'].resample('1Min').min()"
   ]
  },
  {
   "cell_type": "code",
   "execution_count": null,
   "metadata": {},
   "outputs": [],
   "source": [
    "resample_LTP"
   ]
  },
  {
   "cell_type": "code",
   "execution_count": null,
   "metadata": {},
   "outputs": [],
   "source": [
    "token=\"\"\n",
    "for key,value in dicts.items():\n",
    "    token=token+\"nse_fo|\"+str(value)\n",
    "\n",
    "    if value==len(dicts.items())-1:\n",
    "        token=token\n",
    "    else:\n",
    "        token=token+'&'"
   ]
  },
  {
   "cell_type": "code",
   "execution_count": null,
   "metadata": {},
   "outputs": [],
   "source": [
    "lists"
   ]
  },
  {
   "cell_type": "code",
   "execution_count": null,
   "metadata": {},
   "outputs": [],
   "source": [
    "token=\"\"\n",
    "for i in range(len(lists)):\n",
    "    token=token+\"nse_fo|\"+str(lists[i])\n",
    "\n",
    "    if i==len(lists)-1:\n",
    "        token=token\n",
    "    else:\n",
    "        token=token+'&'\n",
    "        "
   ]
  },
  {
   "cell_type": "code",
   "execution_count": null,
   "metadata": {},
   "outputs": [],
   "source": [
    "token"
   ]
  },
  {
   "cell_type": "code",
   "execution_count": null,
   "metadata": {},
   "outputs": [],
   "source": [
    "def main(message):\n",
    "\n",
    "    with open(\"values.json\") as json_data_file:\n",
    "        data3 = json.load(json_data_file)\n",
    "        print(type(data3))\n",
    "    data3['time']=time.time()\n",
    "\n",
    "    for i in range(len(message)):\n",
    "        if 'ltp' in message[i] and 'c' in message[i]:\n",
    "            symbol=str(dicts_2[str(message[i]['tk'])])\n",
    "            data3[symbol][str(message[i]['ltt'])]=str(message[i]['ltp'])\n",
    "\n",
    "\n",
    "    json_object = json.dumps(data3)\n",
    "    with open(\"values.json\", \"w\") as outfile:\n",
    "        outfile.write(json_object)"
   ]
  },
  {
   "cell_type": "code",
   "execution_count": null,
   "metadata": {},
   "outputs": [],
   "source": [
    "dict={\"symbol\":{\n",
    "    '20/07/2022 12:01:50':\"120\"\n",
    "}}"
   ]
  },
  {
   "cell_type": "code",
   "execution_count": null,
   "metadata": {},
   "outputs": [],
   "source": [
    "dict['symbol']['20/07/2022 12:01:55']=\"23\""
   ]
  },
  {
   "cell_type": "code",
   "execution_count": null,
   "metadata": {},
   "outputs": [],
   "source": [
    "dict"
   ]
  },
  {
   "cell_type": "code",
   "execution_count": null,
   "metadata": {},
   "outputs": [],
   "source": [
    "dict"
   ]
  },
  {
   "cell_type": "code",
   "execution_count": null,
   "metadata": {},
   "outputs": [],
   "source": [
    "\n",
    "from smartapi import SmartWebSocket\n",
    "\n",
    "# feed_token=092017047\n",
    "FEED_TOKEN=feedToken\n",
    "CLIENT_CODE=\"S776051\"\n",
    "# token=\"mcx_fo|224395\"\n",
    "token=\"nse_cm|2885&nse_cm|1594&nse_cm|11536&nse_cm|3045\"    #SAMPLE: nse_cm|2885&nse_cm|1594&nse_cm|11536&nse_cm|3045\n",
    "# token=\"mcx_fo|226745&mcx_fo|220822&mcx_fo|227182&mcx_fo|221599\"\n",
    "task=\"mw\"   # mw|sfi|dp\n",
    "\n",
    "ss = SmartWebSocket(FEED_TOKEN, CLIENT_CODE)\n",
    "\n",
    "def on_message(ws, message):\n",
    "    print(\"Ticks: {}\".format(message))\n",
    "\n",
    "    # main(message)\n",
    "\n",
    "def on_open(ws):\n",
    "    print(\"on open\")\n",
    "    ss.subscribe(task,token)\n",
    "    \n",
    "def on_error(ws, error):\n",
    "    print(error)\n",
    "    \n",
    "def on_close(ws):\n",
    "    print(\"Close\")\n",
    "\n",
    "# Assign the callbacks.\n",
    "ss._on_open = on_open\n",
    "ss._on_message = on_message\n",
    "ss._on_error = on_error\n",
    "ss._on_close = on_close\n",
    "\n",
    "ss.connect()"
   ]
  },
  {
   "cell_type": "code",
   "execution_count": null,
   "metadata": {},
   "outputs": [],
   "source": [
    "import math\n",
    "def vix_calculation(price):\n",
    "    working_days = 10\n",
    "    vix_price = float(yf.download(\n",
    "        \"^INDIAVIX\", period='1D', interval=\"1D\")['Close'][-1])\n",
    "    days_vix = vix_price / (math.sqrt(252/working_days))\n",
    "    nifty_range = price*days_vix*(1-vix_price/100)/100\n",
    "    v_factor = round(nifty_range/50, 0)*50\n",
    "    # self.parameters.v_factor=v_factor\n",
    "    # self.parameters.save()\n",
    "    \n",
    "    return v_factor\n",
    "\n"
   ]
  },
  {
   "cell_type": "code",
   "execution_count": null,
   "metadata": {},
   "outputs": [],
   "source": [
    "price=obj.ltpData(\"NFO\", \"symbol_buy_put\", token_dict[symbol_buy_put])['data']['ltp']"
   ]
  },
  {
   "cell_type": "code",
   "execution_count": null,
   "metadata": {},
   "outputs": [],
   "source": [
    "dicts={'e': 'nse_cm', 'ltp': '58.50', 'ltq': '36', 'ltt': 'NA', 'name': 'sf', 'tk': '5606'}\n",
    "\n"
   ]
  },
  {
   "cell_type": "code",
   "execution_count": null,
   "metadata": {},
   "outputs": [],
   "source": [
    "[{'e': 'nse_cm', 'ltp': '58.50', 'ltq': '36', 'ltt': 'NA', 'name': 'sf', 'tk': '5606'}, \n",
    "{'ap': '218.10', 'bp': '217.00', 'bq': '225', 'bs': '16', 'c': '217.15', 'cng': '-00.15', \n",
    "'e': 'nse_cm', 'lo': '216.50', 'ltp': '217.00', 'ltq': '25', 'ltt': '20/07/2022 10:23:43',\n",
    " 'name': 'sf', 'nc': '-00.0691', 'sp': '217.20', 'tbq': '160392', 'tk': '11821', 'to': '46964999.70',\n",
    "  'tsq': '468241', 'v': '215337'}, {'ap': '123.14', 'bp': '123.30', 'bq': '280', 'bs': '304', 'c': '121.00',\n",
    "   'cng': '02.40', 'e': 'nse_cm', 'lo': '122.10', 'ltp': '123.40', 'ltq': '100', 'ltt': '20/07/2022 10:24:07', \n",
    "   'name': 'sf', 'nc': '01.9835', 'sp': '123.40', 'tbq': '138822', 'tk': '15278', \n",
    "'to': '22991838.82', 'tsq': '187169', 'v': '186713'}]"
   ]
  },
  {
   "cell_type": "code",
   "execution_count": null,
   "metadata": {},
   "outputs": [],
   "source": [
    "with open(\"values.json\") as json_data_file:\n",
    "    data3 = json.load(json_data_file)  \n",
    "data3['test']=\"hello\"\n",
    "\n",
    "json_object = json.dumps(data3)\n",
    "with open(\"values.json\", \"w\") as outfile:\n",
    "    outfile.write(json_object)"
   ]
  }
 ],
 "metadata": {
  "kernelspec": {
   "display_name": "Python 3.9.5 64-bit",
   "name": "python395jvsc74a57bd07812ea015bdcee6f23a998adcdd2ef97c151c0c241b7b7070987d9313e41299d"
  },
  "language_info": {
   "codemirror_mode": {
    "name": "ipython",
    "version": 3
   },
   "file_extension": ".py",
   "mimetype": "text/x-python",
   "name": "python",
   "nbconvert_exporter": "python",
   "pygments_lexer": "ipython3",
   "version": "3.9.5"
  },
  "metadata": {
   "interpreter": {
    "hash": "7812ea015bdcee6f23a998adcdd2ef97c151c0c241b7b7070987d9313e41299d"
   }
  },
  "orig_nbformat": 2
 },
 "nbformat": 4,
 "nbformat_minor": 2
}